{
  "nbformat": 4,
  "nbformat_minor": 0,
  "metadata": {
    "colab": {
      "name": "Text CNN interpretation.ipynb",
      "provenance": [],
      "collapsed_sections": [],
      "include_colab_link": true
    },
    "kernelspec": {
      "name": "python3",
      "display_name": "Python 3"
    },
    "accelerator": "GPU"
  },
  "cells": [
    {
      "cell_type": "markdown",
      "metadata": {
        "id": "view-in-github",
        "colab_type": "text"
      },
      "source": [
        "<a href=\"https://colab.research.google.com/github/cagBRT/SentimentTextAnalysis/blob/master/Text_CNN_interpretation.ipynb\" target=\"_parent\"><img src=\"https://colab.research.google.com/assets/colab-badge.svg\" alt=\"Open In Colab\"/></a>"
      ]
    },
    {
      "cell_type": "markdown",
      "metadata": {
        "id": "OQks4AYIpcfZ"
      },
      "source": [
        "Can we view the words used to make predictions in a review?<br>\n",
        "https://towardsdatascience.com/viewing-text-through-the-eyes-of-a-machine-db30c744ee17\n"
      ]
    },
    {
      "cell_type": "code",
      "metadata": {
        "id": "5b4oYSO3X12O",
        "colab": {
          "base_uri": "https://localhost:8080/"
        },
        "outputId": "57e551b3-7ed8-44d3-e19e-167534b18b02"
      },
      "source": [
        "# Clone the entire repo.\n",
        "%cd /content/\n",
        "!git clone  https://github.com/cagBRT/SentimentTextAnalysis.git cloned-repo\n",
        "%cd cloned-repo\n",
        "!ls"
      ],
      "execution_count": 1,
      "outputs": [
        {
          "output_type": "stream",
          "name": "stdout",
          "text": [
            "/content\n",
            "Cloning into 'cloned-repo'...\n",
            "remote: Enumerating objects: 239, done.\u001b[K\n",
            "remote: Counting objects: 100% (76/76), done.\u001b[K\n",
            "remote: Compressing objects: 100% (76/76), done.\u001b[K\n",
            "remote: Total 239 (delta 47), reused 0 (delta 0), pack-reused 163\u001b[K\n",
            "Receiving objects: 100% (239/239), 1.77 MiB | 2.69 MiB/s, done.\n",
            "Resolving deltas: 100% (144/144), done.\n",
            "/content/cloned-repo\n",
            "amazon_cells_labelled.txt\t Sentiment_Text_Analysis_4.ipynb\n",
            "coffeedata.csv\t\t\t Sentiment_Text_Analysis_5.ipynb\n",
            "images\t\t\t\t Sentiment_Text_Analysis_6.ipynb\n",
            "imdb_labelled.txt\t\t Sentiment_Text_Analysis_7.ipynb\n",
            "README.md\t\t\t Sentiment_Text_Analysis_8.ipynb\n",
            "readme.txt\t\t\t Sentiment_Text_Analysis.ipynb\n",
            "Sentiment_Text_Analysis_1.ipynb  Text_CNN_interpretation.ipynb\n",
            "Sentiment_Text_Analysis_2.ipynb  yelp_labelled.txt\n",
            "Sentiment_Text_Analysis_3.ipynb\n"
          ]
        }
      ]
    },
    {
      "cell_type": "markdown",
      "metadata": {
        "id": "RRqw5mjsUkyE"
      },
      "source": [
        "## CNN intepretation for text classification\n",
        "Creating a heatmap identify words and phrases which correlate to model predictions"
      ]
    },
    {
      "cell_type": "code",
      "metadata": {
        "id": "nW80ctOZh-4Z",
        "colab": {
          "base_uri": "https://localhost:8080/"
        },
        "outputId": "f1bbb064-f958-40f4-dcb0-e08e664506f3"
      },
      "source": [
        "import os\n",
        "import pandas as pd\n",
        "import numpy as np\n",
        "import matplotlib.pyplot as plt\n",
        "import math\n",
        "from IPython.display import HTML\n",
        "from sklearn.model_selection import train_test_split\n",
        "from numpy import array\n",
        "from numpy import argmax\n",
        "from keras.utils import to_categorical\n",
        "from keras.models import Model\n",
        "from keras import backend as K \n",
        "from keras.models import Sequential\n",
        "from keras import layers\n",
        "from keras_preprocessing.sequence import pad_sequences\n",
        "from keras.preprocessing.text import Tokenizer\n",
        "\n",
        "\n",
        "pd.options.display.max_rows\n",
        "pd.set_option('display.max_colwidth', -1)"
      ],
      "execution_count": 4,
      "outputs": [
        {
          "output_type": "stream",
          "name": "stderr",
          "text": [
            "/usr/local/lib/python3.7/dist-packages/ipykernel_launcher.py:20: FutureWarning: Passing a negative integer is deprecated in version 1.0 and will not be supported in future version. Instead, use None to not limit the column width.\n"
          ]
        }
      ]
    },
    {
      "cell_type": "code",
      "metadata": {
        "id": "FXiBeZawi9SR"
      },
      "source": [
        "df = pd.read_csv('/content/cloned-repo/coffeedata.csv') #from https://drive.google.com/open?id=17jYWjTHrwMegjdTYs0YLXyc9PDRLOSi1\n",
        "#data clean:\n",
        "df['light_dark'] = np.where(df.roast=='Very Dark','Dark',df.roast)\n",
        "df = df.loc[(df.light_dark=='Dark')|(df.light_dark=='Light')]\n",
        "df = df.loc[(df.blind_assesment.str.len()>10)]\n",
        "df['y'] = np.where(df.light_dark=='Light',1,0)\n",
        "df.light_dark.value_counts()\n",
        "df.columns"
      ],
      "execution_count": null,
      "outputs": []
    },
    {
      "cell_type": "code",
      "metadata": {
        "id": "rpHmBzK3iqNI"
      },
      "source": [
        "X = df.blind_assesment.values\n",
        "y = df.y.values\n",
        "\n",
        "tokenizer = Tokenizer(num_words=4000)\n",
        "tokenizer.fit_on_texts(X)\n",
        "\n",
        "X = tokenizer.texts_to_sequences(X)\n",
        "\n",
        "vocab_size = len(tokenizer.word_index) + 1  # Adding 1 because of reserved 0 index\n",
        "\n",
        "maxlen = 200\n",
        "embedding_dim = 50\n",
        "\n",
        "X = pad_sequences(X, padding='post', maxlen=maxlen)\n",
        "\n",
        "\n",
        "sequence_input = layers.Input(shape=(maxlen,), dtype='int32')\n",
        "embedded_sequences = layers.Embedding(vocab_size, embedding_dim, input_length=maxlen)(sequence_input)\n",
        "l_cov1  = layers.Conv1D(317, 3, activation='relu')(embedded_sequences)\n",
        "l_pool1 = layers.MaxPooling1D(2)(l_cov1)\n",
        "l_cov2  = layers.Conv1D(317, 1, activation='relu')(l_pool1)\n",
        "l_cov3  = layers.Conv1D(317, 2, activation='relu')(l_cov2)\n",
        "l_pool3 = layers.GlobalMaxPooling1D()(l_cov3)  # global max pooling\n",
        "l_bnorm = layers.BatchNormalization()(l_pool3)\n",
        "l_dense = layers.Dense(128, activation='relu')(l_pool3)\n",
        "preds   = layers.Dense(1, activation='sigmoid',name='preds')(l_dense)\n",
        "\n",
        "\n",
        "model = Model(sequence_input, outputs=preds)\n",
        "\n",
        "model.compile(optimizer='adam',\n",
        "              loss='binary_crossentropy',\n",
        "              metrics=['accuracy'])\n",
        "model.summary()\n",
        "\n",
        "model.fit(X, y, epochs=3, validation_split=0.1, batch_size=10)"
      ],
      "execution_count": null,
      "outputs": []
    },
    {
      "cell_type": "code",
      "metadata": {
        "cellView": "form",
        "id": "rlWayo2v876a"
      },
      "source": [
        "#@title ## Coffee darkness predictor\n",
        "#@markdown Try-it-out by pasting or typing your coffee taste description below:\n",
        "type_here = \"\"#@param {type:\"string\"}\n",
        "maxlen = 200\n",
        "Xtst = tokenizer.texts_to_sequences([type_here])\n",
        "Xtst = pad_sequences(Xtst, padding='post', maxlen=maxlen)\n",
        "\n",
        "y_pred = model.predict(Xtst)\n",
        "\n",
        "class_idx = np.argmax(y_pred[0]) #not needed in this case as only two classes\n",
        "class_output = model.output[:, class_idx]\n",
        "last_conv_layer = model.get_layer(\"conv1d_1\")\n",
        "\n",
        "grads = K.gradients(class_output, last_conv_layer.output)[0]\n",
        "pooled_grads = K.mean(grads)\n",
        "iterate = K.function([model.input], [pooled_grads, last_conv_layer.output[0]])\n",
        "pooled_grads_value, conv_layer_output_value = iterate([Xtst])\n",
        "\n",
        "    \n",
        "heatmap = np.mean(conv_layer_output_value, axis=-1)\n",
        "heatmap = np.maximum(heatmap,0)\n",
        "heatmap /= np.max(heatmap)#normalise values in the prediction\n",
        "\n",
        "norm_len = maxlen/last_conv_layer.output_shape[1] # find the ratio of the text vs the conv layer length\n",
        "\n",
        "html = \"\"\n",
        "if y_pred[0]>0.5:\n",
        "  pred = 'light'\n",
        "else:\n",
        "  pred = 'dark'\n",
        "html += \"<span><h3>Based on the description, the model believes that this is a {} coffee roast. \".format(pred)\n",
        "html += \"<small><br>Confidence: {:.0f}%<br><br></small></h3></span>\".format(abs(((y_pred[0][0]*100)-50)*2))\n",
        "for j,i in enumerate(tokenizer.sequences_to_texts(Xtst)[0].split()):\n",
        "  html += \"<span style='background-color:rgba({},0,150,{})'>{} </span>\".format(heatmap[math.floor(j/norm_len)]*255,heatmap[math.floor(j/norm_len)]-0.3,i)\n",
        "\n",
        "HTML(html)\n"
      ],
      "execution_count": null,
      "outputs": []
    }
  ]
}